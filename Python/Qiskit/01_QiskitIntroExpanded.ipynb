{
 "cells": [
  {
   "cell_type": "markdown",
   "id": "207e3fbe",
   "metadata": {},
   "source": [
    "# Getting Started with Qiskit\n",
    "\n",
    "In this example we will look at a simple quantum circuit that will create a bell state, specifically:\n",
    "\\begin{align}\n",
    "    |\\psi\\rangle = \\frac{1}{\\sqrt{2}} \\left( |00\\rangle + |11\\rangle \\right)\n",
    "\\end{align}\n",
    "This is done by first applying a Hadamard gate to $q_0$ and then applying a CNOT gate using $q_0$ as the control qubit. This will first create the following state as an intermediary\n",
    "\\begin{align}\n",
    "    |\\psi\\rangle = \\frac{1}{\\sqrt{2}} \\left( |0\\rangle + |1\\rangle \\right) \\otimes |0\\rangle = \\frac{1}{\\sqrt{2}} \\left( |00\\rangle + |10\\rangle \\right)\n",
    "\\end{align}\n",
    "Then the application of the CNOT gate will give the desired Bell state.\n",
    "\n",
    "To explore this, we will measure a set of observables and then use a sampler to explore the measurement results of the circuit.\n",
    "\n",
    "But first, to prove it works we can use QuTip to explore the circuit"
   ]
  },
  {
   "cell_type": "code",
   "execution_count": 2,
   "id": "06dc82b9",
   "metadata": {},
   "outputs": [
    {
     "data": {
      "image/png": "[encoded data removed]",
      "text/plain": [
       "<Figure size 434.626x434.626 with 1 Axes>"
      ]
     },
     "metadata": {},
     "output_type": "display_data"
    }
   ],
   "source": [
    "from qutip import tensor, basis, bell_state\n",
    "from qutip_qip.circuit import QubitCircuit\n",
    "\n",
    "qc = QubitCircuit(2)\n",
    "qc.add_gate(\"H\", 0)\n",
    "qc.add_gate(\"CNOT\", 1, 0)\n",
    "qc.draw()\n",
    "\n",
    "# Watch out, the order of the qubits is reversed in QuTip, \n",
    "# so the Qiskit model will have a slightly different visualisation"
   ]
  },
  {
   "cell_type": "code",
   "execution_count": 3,
   "id": "6cda46c0",
   "metadata": {},
   "outputs": [
    {
     "data": {
      "text/plain": [
       "True"
      ]
     },
     "execution_count": 3,
     "metadata": {},
     "output_type": "execute_result"
    }
   ],
   "source": [
    "# initialise a |00> state\n",
    "psi = tensor(basis(2, 0), basis(2, 0))\n",
    "# run the circuit, this will give the state vector at the end of execution\n",
    "res = qc.run(psi) # (0.707, 0, 0, 0.707)\n",
    "# Compare with the QuTip Bell state\n",
    "res == bell_state('00')"
   ]
  },
  {
   "cell_type": "markdown",
   "id": "ddeac612",
   "metadata": {},
   "source": [
    "## Primitives\n",
    "\n",
    "[Introduction to Primitives](https://quantum.cloud.ibm.com/docs/en/guides/primitives#sampler)\n",
    "\n",
    "In Qiskit, primitives are interfaces that allow two extremely common processes in quantum computation. Expectation value estimation `Estimator`, and circuit sampling `Sampler`. The goal here is to allow developers to focus on algorithm development, and to ignore the technical details of data conversion and flow.\n",
    "\n",
    "The input of a primitivie is a (list of) PUB (Primitive Unified Bloc).\n",
    "[Primitive Inputs and Outputs](https://quantum.cloud.ibm.com/docs/en/guides/primitive-input-output)\n",
    "The exact format will be explained in the relevant sections later on"
   ]
  },
  {
   "cell_type": "markdown",
   "id": "2a642a52",
   "metadata": {},
   "source": [
    "## Using an Estimator\n",
    "\n",
    "An Estimator primitive will run the circuit and then measure the chosen observables to estimate expectation values of selected operators. Measurements will be ignored\n",
    "\n",
    "The `Estimator` PUB should contain:\n",
    "- A single QuantumCircuit, which may contain one or more Parameter objects\n",
    "- A list of one or more observables, which specify the expectation values to estimate, arranged into an array (for example, a single observable represented as a 0-d array, a list of observables as a 1-d array, and so on). The data can be in any one of the ObservablesArrayLike format such as Pauli, SparsePauliOp, PauliList, or str.\n",
    "- A collection of parameter values to bind the circuit against. This can be specified as a single array-like object where the last index is over circuit Parameter objects, or omitted (or equivalently, set to None) if the circuit has no Parameter objects.\n",
    "- (Optionally) a target precision for expectation values to estimate\n",
    "\n",
    "`(<single circuit>, <one or more observables>, <optional one or more parameter values>, <optional precision>)`\n",
    "\n",
    "First we build the circuit, without measurements, as required by the Estimator."
   ]
  },
  {
   "cell_type": "code",
   "execution_count": 4,
   "id": "771e3fc0",
   "metadata": {},
   "outputs": [
    {
     "data": {
      "image/png": "[encoded data removed]",
      "text/plain": [
       "<Figure size 287.294x200.667 with 1 Axes>"
      ]
     },
     "execution_count": 4,
     "metadata": {},
     "output_type": "execute_result"
    }
   ],
   "source": [
    "from qiskit import QuantumCircuit, QuantumRegister, ClassicalRegister\n",
    "from qiskit.quantum_info import SparsePauliOp\n",
    "from qiskit.transpiler import generate_preset_pass_manager\n",
    "\n",
    "qre = QuantumRegister(2, 'q')\n",
    "# cre = ClassicalRegister(2, 'meas') # no need for classical register here   \n",
    "qce = QuantumCircuit(qre)\n",
    "\n",
    "qce.h(0)\n",
    "qce.cx(0, 1)\n",
    "\n",
    "obs_labels = ['II', 'IZ', 'IX', 'ZI', 'XI', 'ZX', 'ZZ', 'XX']\n",
    "observables = [SparsePauliOp(label) for label in obs_labels]\n",
    "\n",
    "qce.draw('mpl')"
   ]
  },
  {
   "cell_type": "markdown",
   "id": "bbfabc7c",
   "metadata": {},
   "source": [
    "Here we want to measure the correlations between the two single-qubit systems. Since we know that we are creating a Bell state, which inherently has perfect correlation, we expect the $\\langle ZZ \\rangle$ and $\\langle XX \\rangle$ EVs to be 1, meaning that Z and X expectation values for the combined system are in sync. But this does not go for the local observables (the ones involving the Identity operator on a single qubit, and the Z- or X-operator on the other one). This can be understood by looking at the reduced density matrix of the components of the entangled system. This indicates that the system is in a maximally mixed state. Which means that locally, the probability is 50-50 between getting $|0\\rangle$ and $|1\\rangle$"
   ]
  },
  {
   "cell_type": "code",
   "execution_count": 5,
   "id": "bafbd03f",
   "metadata": {},
   "outputs": [
    {
     "name": "stdout",
     "output_type": "stream",
     "text": [
      "['II'] 1.0\n",
      "['IZ'] 0.037109375\n",
      "['IX'] -0.0048828125\n",
      "['ZI'] 0.04150390625\n",
      "['XI'] 0.03466796875\n",
      "['ZX'] -0.0166015625\n",
      "['ZZ'] 0.9033203125\n",
      "['XX'] 0.89208984375\n"
     ]
    }
   ],
   "source": [
    "import qiskit_ibm_runtime as qir\n",
    "import qiskit_ibm_runtime.fake_provider as fp\n",
    "\n",
    "# The local simulation needs a simulation backend to run the circuit\n",
    "Backend = fp.FakeAlmadenV2\n",
    "# Together with a qiskit primitive. This can be an Estimator or a Sampler.\n",
    "Primitive = qir.EstimatorV2\n",
    "\n",
    "# We can then instantiate the backend and link it to the correct primitive\n",
    "backend = Backend()\n",
    "estimator = Primitive(backend)\n",
    "\n",
    "# Then set up the pass manager \n",
    "# https://docs.quantum.ibm.com/api/qiskit/qiskit.transpiler.PassManager\n",
    "# and transpilation to an ISA (Instruction Set Architecture) circuit\n",
    "# https://www.ibm.com/quantum/blog/isa-circuits\n",
    "pm = generate_preset_pass_manager(backend=backend, optimization_level=3)\n",
    "isa_circuit = pm.run(qce)\n",
    "mapped_observables = [obs.apply_layout(isa_circuit.layout) for obs in observables]\n",
    "\n",
    "# finally we can run the transpiled circuit, together with the desired observables\n",
    "# This results in a job. In this case it runs locally, but otherwise it holds a reference to a backend job on the server.\n",
    "job = estimator.run([(isa_circuit, mapped_observables)])\n",
    "# We can extract the results from the job\n",
    "results = job.result()[0]\n",
    "\n",
    "for obs, result in zip(observables, results.data.evs):\n",
    "    print(obs.paulis, result)"
   ]
  },
  {
   "cell_type": "markdown",
   "id": "92025235",
   "metadata": {},
   "source": [
    "The results are then a list of the expectation values of the chosen operators. In this case, you can see that the correlation between the Z-measurements and the X-measurements is 1, while the expectation value of any combination with an identity measurement is close to 0. Indicating that we have created an entangled state. We can make this even more insightful by plotting the correlations:"
   ]
  },
  {
   "cell_type": "code",
   "execution_count": 6,
   "id": "9d30a8ac",
   "metadata": {},
   "outputs": [
    {
     "data": {
      "image/png": "[encoded data removed]",
      "text/plain": [
       "<Figure size 640x480 with 1 Axes>"
      ]
     },
     "metadata": {},
     "output_type": "display_data"
    }
   ],
   "source": [
    "import matplotlib.pyplot as plt\n",
    " \n",
    "values = results.data.evs\n",
    " \n",
    "errors = results.data.stds\n",
    " \n",
    "# plotting graph\n",
    "plt.plot(obs_labels, values, \"-o\")\n",
    "plt.xlabel(\"Observables\")\n",
    "plt.ylabel(\"Values\")\n",
    "plt.show()"
   ]
  },
  {
   "cell_type": "markdown",
   "id": "dc31b52e",
   "metadata": {},
   "source": [
    "Where $\\langle II \\rangle$ is included as a sanity check."
   ]
  },
  {
   "cell_type": "markdown",
   "id": "456f00be",
   "metadata": {},
   "source": [
    "### Using a Sampler\n",
    "\n",
    "A sampler samples output registers for the selected quantum circuits. The sampler requires measurements for the system quantum registers that need to be sampled.\n",
    "\n",
    "The `Sampler` PUB contains:\n",
    "- A single QuantumCircuit, which may contain one or more Parameter objects Note: These circuits should also include measurement instructions for each of the qubits to be sampled.\n",
    "- A collection of parameter values to bind the circuit against $\\theta_k$ (only needed if any Parameter objects are used that must be bound at runtime)\n",
    "(Optionally) a number of shots to measure the circuit with\n",
    "\n",
    "`(<single circuit>, <one or more optional parameter value>, <optional shots>)`\n",
    "\n",
    "First we need to make a new circuit that contains measurements, otherwise the sampler will have nothing to sample."
   ]
  },
  {
   "cell_type": "code",
   "execution_count": 7,
   "id": "2d07aba3",
   "metadata": {},
   "outputs": [
    {
     "data": {
      "image/png": "[encoded data removed]",
      "text/plain": [
       "<Figure size 496.776x284.278 with 1 Axes>"
      ]
     },
     "execution_count": 7,
     "metadata": {},
     "output_type": "execute_result"
    }
   ],
   "source": [
    "qrs = QuantumRegister(2, 'q')\n",
    "crs = ClassicalRegister(2, 'meas')\n",
    "qcs = QuantumCircuit(qrs, crs)\n",
    "\n",
    "qcs.h(0)\n",
    "qcs.cx(0, 1)\n",
    "qcs.measure(qrs, crs)\n",
    "\n",
    "qcs.draw('mpl')"
   ]
  },
  {
   "cell_type": "code",
   "execution_count": 8,
   "id": "ed8cac25",
   "metadata": {},
   "outputs": [],
   "source": [
    "Backend = fp.FakeAlmadenV2\n",
    "Primitive = qir.SamplerV2\n",
    "\n",
    "backend = Backend()\n",
    "sampler = Primitive(backend)\n",
    "\n",
    "pm = generate_preset_pass_manager(backend=backend, optimization_level=3)\n",
    "isa_circuit = pm.run(qcs)\n",
    "job = sampler.run([isa_circuit], shots=1000)\n",
    "results = job.result()"
   ]
  },
  {
   "cell_type": "code",
   "execution_count": 9,
   "id": "8f277b55",
   "metadata": {},
   "outputs": [
    {
     "data": {
      "text/plain": [
       "{'11': 460, '00': 494, '01': 28, '10': 18}"
      ]
     },
     "execution_count": 9,
     "metadata": {},
     "output_type": "execute_result"
    }
   ],
   "source": [
    "results[0].data.meas.get_counts()"
   ]
  },
  {
   "cell_type": "markdown",
   "id": "f3782bf6",
   "metadata": {},
   "source": [
    "We confirm the previous result from our Estimator. The only measurements we get are correlated. Meaning we have an entangled state."
   ]
  },
  {
   "cell_type": "markdown",
   "id": "8cda6bca",
   "metadata": {},
   "source": [
    "## Generalising running circuits\n",
    "\n",
    "As a nice next step, and to make running circuits a bit easier, we can make a new function that handles the backend and estimator setup for us. This will reduce flexibility a little bit. But can give more freedom to test things out with broad strokes."
   ]
  },
  {
   "cell_type": "code",
   "execution_count": 10,
   "id": "657490a2",
   "metadata": {},
   "outputs": [],
   "source": [
    "from typing import Iterable, Type\n",
    "from qiskit.primitives.base import BaseEstimatorV2\n",
    "from qiskit.primitives.containers import EstimatorPubLike\n",
    "from qiskit_ibm_runtime.fake_provider.fake_backend import FakeBackendV2\n",
    "\n",
    "# Generalised function that takes a circuit, a set of observables, a backend type and an estimator type.\n",
    "# The function instantiates all necessary parts, transpiles the circuit, and runs it on the chosen backend\n",
    "def get_simulation_results_estimator(qc: QuantumCircuit, observables: Iterable[EstimatorPubLike], backend: Type[FakeBackendV2], estimator: Type[BaseEstimatorV2]):\n",
    "\n",
    "    _backend = backend()\n",
    "    _estimator = estimator(_backend)\n",
    "    pm = generate_preset_pass_manager(backend=_backend, optimization_level=3)\n",
    "    isa_circuit = pm.run(qc)\n",
    "    mapped_observables = [obs.apply_layout(isa_circuit.layout) for obs in observables]\n",
    "    job = _estimator.run([(isa_circuit, mapped_observables)])\n",
    "    return job.result()[0].data"
   ]
  },
  {
   "cell_type": "code",
   "execution_count": 11,
   "id": "41579744",
   "metadata": {},
   "outputs": [
    {
     "data": {
      "text/plain": [
       "(array([ 1.        ,  0.        ,  0.01074219,  0.05615234,  0.02783203,\n",
       "        -0.00927734,  0.91259766,  0.89892578]),\n",
       " array([0.        , 0.015625  , 0.0156241 , 0.01560035, 0.01561895,\n",
       "        0.01562433, 0.00638842, 0.00684533]))"
      ]
     },
     "execution_count": 11,
     "metadata": {},
     "output_type": "execute_result"
    }
   ],
   "source": [
    "from qiskit_ibm_runtime import EstimatorV2\n",
    "from qiskit_ibm_runtime.fake_provider import FakeAlmadenV2\n",
    "res = get_simulation_results_estimator(qce, observables, FakeAlmadenV2, EstimatorV2)\n",
    "\n",
    "res.evs, res.stds"
   ]
  },
  {
   "cell_type": "markdown",
   "id": "f6e15164",
   "metadata": {},
   "source": [
    "The function above is just a quick helper for running simple experiments without having to worry about setting up the environment every time. Especially with local simulations this makes prototyping a bit quicker and easier."
   ]
  },
  {
   "cell_type": "markdown",
   "id": "6df90a5b",
   "metadata": {},
   "source": []
  }
 ],
 "metadata": {
  "kernelspec": {
   "display_name": "quantum-wSpM9I4J-py3.12",
   "language": "python",
   "name": "python3"
  },
  "language_info": {
   "codemirror_mode": {
    "name": "ipython",
    "version": 3
   },
   "file_extension": ".py",
   "mimetype": "text/x-python",
   "name": "python",
   "nbconvert_exporter": "python",
   "pygments_lexer": "ipython3",
   "version": "3.12.9"
  }
 },
 "nbformat": 4,
 "nbformat_minor": 5
}

{
 "cells": [
  {
   "cell_type": "markdown",
   "id": "72b953c3",
   "metadata": {},
   "source": [
    "# State Preparation with qclib\n",
    "\n",
    "Qclib is a state preparation library built on Qiskit. The main focus is on preparing quantum states.\n",
    "There is no direct documentation available online, but there is a Github page with source code:\n",
    "- [qclib - Github](https://github.com/qclib/qclib)\n",
    "\n",
    "And another Github page with links to example code and paper references (available on Arxiv)\n",
    "- [qclib-papers - Github](https://github.com/qclib/qclib-papers/tree/main)\n",
    "\n",
    "A few direct links to the papers:\n",
    "- [Low-rank quantum state preparation](https://arxiv.org/abs/2111.03132)\n",
    "- [Configurable sublinear circuits for quantum state preparation](https://arxiv.org/abs/2108.10182)\n",
    "- [A divide-and-conquer algorithm for quantum state preparation](https://arxiv.org/abs/2008.01511)"
   ]
  },
  {
   "cell_type": "code",
   "execution_count": 1,
   "id": "6fc06e8f",
   "metadata": {},
   "outputs": [],
   "source": [
    "import qclib"
   ]
  },
  {
   "cell_type": "markdown",
   "id": "550457f6",
   "metadata": {},
   "source": [
    "To learn how the library works, we can first look at the benchmarking script quoted in the `README` of the qclib repository: `https://github.com/qclib/qclib-papers/blob/main/examples/state_preparation_benchmark.ipynb`\n",
    "\n",
    "#### Notes:\n",
    "Some changes were made to conform to the newer V2.x version of Qiskit.\n",
    "\n",
    "- [`QuantumCircuit.isometry`](https://docs.quantum.ibm.com/api/qiskit/0.25/qiskit.circuit.QuantumCircuit#isometry) has been superseded by [`qiskit.circuit.library.StatePreparation`](https://docs.quantum.ibm.com/api/qiskit/qiskit.circuit.library.StatePreparation)\n",
    "- This is also the same method that [`QuantumCircuit.initialize`](https://docs.quantum.ibm.com/api/qiskit/qiskit.circuit.QuantumCircuit#qiskit.circuit.QuantumCircuit.initialize) uses behind the scenes, so these are currently identical."
   ]
  },
  {
   "cell_type": "code",
   "execution_count": 3,
   "id": "2e8af6ab",
   "metadata": {},
   "outputs": [],
   "source": [
    "import numpy as np\n",
    "from IPython.display import Markdown, display\n",
    "from qiskit import QuantumCircuit, QuantumRegister, transpile\n",
    "from qclib.state_preparation import (\n",
    "    LowRankInitialize,\n",
    "    DcspInitialize,\n",
    "    BdspInitialize,\n",
    "    SVDInitialize,\n",
    "    UCGInitialize\n",
    ")\n",
    "from qiskit.circuit.library import StatePreparation\n",
    "\n",
    "n_qubits = 15\n",
    "\n",
    "state = np.random.rand(2 ** n_qubits) + np.random.rand(2 ** n_qubits) * 1j\n",
    "state = state/np.linalg.norm(state)\n",
    "\n",
    "# qclib low-rank\n",
    "circuit_low = QuantumCircuit(n_qubits)\n",
    "LowRankInitialize.initialize(circuit_low, state)\n",
    "# qclib svd\n",
    "circuit_svd = QuantumCircuit(n_qubits)\n",
    "SVDInitialize.initialize(circuit_svd, state)\n",
    "# qclib ucg\n",
    "circuit_ucg = QuantumCircuit(n_qubits)\n",
    "UCGInitialize.initialize(circuit_ucg, state)\n",
    "# qclib bdsp\n",
    "circuit_bdsp = BdspInitialize(state).definition\n",
    "# qclib dcsp\n",
    "circuit_dcsp = DcspInitialize(state).definition\n",
    "# qiskit StatePreparation\n",
    "circuit_prep = StatePreparation(state).definition"
   ]
  },
  {
   "cell_type": "code",
   "execution_count": null,
   "id": "e20881ee",
   "metadata": {},
   "outputs": [
    {
     "data": {
      "text/markdown": [
       "| method | lib | qubits | cnots | depth |\n",
       "| --- | --- |:---:|:---:|:---:|\n",
       "| svd | qclib | 15 | 38813 | 71580 |\n",
       "| ucg | qclib | 15 | 32752 | 65505 |\n",
       "| StatePreparation | qiskit | 15 | 32752 | 65505 |\n",
       "| multiplexor | qiskit | 15 | 32752 | 65506 |\n",
       "| bdsp | qclib | 1151 | 72320 | 1603 |\n",
       "| dcsp | qclib | 32767 | 262016 | 899 |\n"
      ],
      "text/plain": [
       "<IPython.core.display.Markdown object>"
      ]
     },
     "metadata": {},
     "output_type": "display_data"
    }
   ],
   "source": [
    "# print results\n",
    "circuits = [('low-rank',    'qclib',  circuit_low),\n",
    "            ('svd',         'qclib',  circuit_svd),\n",
    "            ('ucg',         'qclib',  circuit_ucg),\n",
    "            ('StatePreparation',    'qiskit', circuit_prep),\n",
    "            ('bdsp',        'qclib',  circuit_bdsp),\n",
    "            ('dcsp',        'qclib',  circuit_dcsp)]\n",
    "\n",
    "table = '| method | lib | qubits | cnots | depth |\\n'\n",
    "table += '| --- | --- |:---:|:---:|:---:|\\n'\n",
    "for label, lib, circuit in circuits:\n",
    "    try:\n",
    "        transpiled = transpile(circuit, basis_gates=['u', 'cx'], optimization_level=0)\n",
    "    except:\n",
    "        continue\n",
    "\n",
    "    qubits = len(transpiled.qubits)\n",
    "    depth = transpiled.depth()\n",
    "    cx = transpiled.count_ops().get('cx', 0)\n",
    "\n",
    "    table += f'| {label} | {lib} | {qubits} | {cx} | {depth} |\\n'\n",
    "\n",
    "display(Markdown(table))"
   ]
  },
  {
   "cell_type": "code",
   "execution_count": null,
   "id": "8c07b52d",
   "metadata": {},
   "outputs": [],
   "source": []
  }
 ],
 "metadata": {
  "kernelspec": {
   "display_name": "Quantum-zbvNZYAx",
   "language": "python",
   "name": "python3"
  },
  "language_info": {
   "codemirror_mode": {
    "name": "ipython",
    "version": 3
   },
   "file_extension": ".py",
   "mimetype": "text/x-python",
   "name": "python",
   "nbconvert_exporter": "python",
   "pygments_lexer": "ipython3",
   "version": "3.12.9"
  }
 },
 "nbformat": 4,
 "nbformat_minor": 5
}

{
 "cells": [
  {
   "cell_type": "markdown",
   "id": "e6ed0002",
   "metadata": {},
   "source": [
    "# Getting Started with Pennylane\n",
    "\n",
    "Pennylane is a cross-platform python library that connects Quantum computer programming with machine learning methods. It's main goal is to execute circuits and compute gradients which will be used for machine learning and optimization.\n",
    "\n",
    "The library contains many functions for simulation and running on hardware, with a wide compatibility for platforms."
   ]
  },
  {
   "cell_type": "code",
   "execution_count": 2,
   "id": "07341dd2",
   "metadata": {},
   "outputs": [
    {
     "data": {
      "text/plain": [
       "'0.41.1'"
      ]
     },
     "execution_count": 2,
     "metadata": {},
     "output_type": "execute_result"
    }
   ],
   "source": [
    "import pennylane as qml\n",
    "qml.version()"
   ]
  },
  {
   "cell_type": "markdown",
   "id": "201f71d4",
   "metadata": {},
   "source": [
    "## Quantum circuits\n",
    "\n",
    "In pennylane, computations are represented by QNodes. These QNodes are combinations of quantum circuits/functions and their environment (e.g. the hardware or simulator that is running the circuit or function). QNodes can interface with the following systems (more information [here](https://docs.pennylane.ai/en/stable/introduction/interfaces.html)):\n",
    "- Numpy (default)\n",
    "- PyTorch\n",
    "- TensorFlow\n",
    "- JAX\n",
    "\n",
    "Quantum circuits are represented by python functions.\n",
    "\n",
    "For this tutorial we will build a simple bell state generating circuit ([pennylane - what are Bell states](https://pennylane.ai/qml/glossary/what-are-bell-states)), which initially will only be able to make the $|\\beta_{00}\\rangle$ state. But eventually can make any of the four Bell states, based on the input value."
   ]
  },
  {
   "cell_type": "code",
   "execution_count": 4,
   "id": "80777121",
   "metadata": {},
   "outputs": [],
   "source": [
    "def bell():\n",
    "    qml.H(wires=0)\n",
    "    qml.CNOT(wires=[0, 1])\n",
    "    return qml.expval(qml.Z(wires=0) @ qml.Z(wires=1))"
   ]
  },
  {
   "cell_type": "markdown",
   "id": "75f22746",
   "metadata": {},
   "source": [
    "These functions are a restricted subset of python functions with the following properties:\n",
    "- Accepts classical inputs and consists of quantum operators or sequences of operators\n",
    "- The function can contains for-loops and if-statements\n",
    "- The function must always return measurement values. For example an expectation value.\n",
    "\n",
    "### Defining a device\n",
    "\n",
    "To actually run the circuit we must define a device. In this case we will create a simulation device. Basic devices are already provided in the library:\n",
    "- `default.qubit`\n",
    "- `default.mixed`\n",
    "- `lightning.qubit`\n",
    "\n",
    "With more information to be found [here](https://pennylane.ai/devices/). Device choice can significantly influence performance.\n",
    "\n",
    "When creating a device, the name of the choice must always be specified. Then it needs an amount of wires (in this case qubits) end how many shots the circuit should be run for. Wires can be specified as integer, or as a list of identifiers. Then, in the quantum function these labels can also be used.\n",
    "\n",
    "For the shots parameter, it is also possible to perform shots batching by passing a list of shots to the device initialisation."
   ]
  },
  {
   "cell_type": "code",
   "execution_count": null,
   "id": "34557cf6",
   "metadata": {},
   "outputs": [],
   "source": [
    "dev = qml.device('default.qubit', wires=['q1', 'q2'], shots=1000)\n",
    "\n",
    "@qml.qnode(dev)\n",
    "def bell():\n",
    "    \"\"\"\n",
    "    Create a bell state of a provided input state\n",
    "    |00> => |Φ+>\n",
    "    \"\"\"\n",
    "    qml.H(wires='q1')\n",
    "    qml.CNOT(wires=['q1', 'q2'])\n",
    "    # Measure the Z expectation value of each individual qubit and the combined system\n",
    "    # Since we have the 00 Bell state, the (ideal) result should be (0, 0, 1)\n",
    "    # Completely uncorrelated subsystems, perfectly correlated combined system.\n",
    "    return qml.expval(qml.Z(wires='q1')), qml.expval(qml.Z(wires='q2')), qml.expval(qml.Z(wires='q1') @ qml.Z(wires='q2'))"
   ]
  },
  {
   "cell_type": "markdown",
   "id": "b8273b25",
   "metadata": {},
   "source": [
    "### Quantum Nodes\n",
    "\n",
    "Then we can combine the device and the circuit function into a QNode. For this we can explicitly create the QNode with `qml.QNode(quantum_function, device)`. But we can also use the `@qml.qnode(device)` decorator (as you can see above). When this is done, we can start by drawing the circuit to verify if it is correct."
   ]
  },
  {
   "cell_type": "code",
   "execution_count": 102,
   "id": "8249e2a4",
   "metadata": {},
   "outputs": [
    {
     "data": {
      "text/plain": [
       "(<Figure size 500x300 with 1 Axes>, <Axes: >)"
      ]
     },
     "execution_count": 102,
     "metadata": {},
     "output_type": "execute_result"
    },
    {
     "data": {
      "image/png": "[encoded data removed]",
      "text/plain": [
       "<Figure size 500x300 with 1 Axes>"
      ]
     },
     "metadata": {},
     "output_type": "display_data"
    }
   ],
   "source": [
    "# The `qml.draw_mpl` function takes in a circuit and returns a function that will draw the circuit.\n",
    "qml.draw_mpl(bell)()"
   ]
  },
  {
   "cell_type": "code",
   "execution_count": null,
   "id": "880f3f95",
   "metadata": {},
   "outputs": [
    {
     "data": {
      "text/plain": [
       "(np.float64(-0.024), np.float64(-0.024), np.float64(1.0))"
      ]
     },
     "execution_count": 103,
     "metadata": {},
     "output_type": "execute_result"
    }
   ],
   "source": [
    "# Run the circuit and get three expectation values. One for each subsystem and one for the combined system. \n",
    "# Since we are measuring the combination of the expectation value of the Z-operator on both qubits, we expect the result to be 1. \n",
    "# This is because the expectation value of a single subsystem is either 1 for |0> or -1 for |1> for the Z-measurement.\n",
    "# Since we have a Bell state |β_00> (also goes for |β_10>), the qubits should always come out the same. \n",
    "# So multiplying the expectation values of the subsystem always gives 1.\n",
    "# For the other Bell states, where the qubits will always turn out opposite, the expectation value of the combined system will be -1.\n",
    "bell()"
   ]
  },
  {
   "cell_type": "markdown",
   "id": "0551e52c",
   "metadata": {},
   "source": [
    "### Parametrizing circuits\n",
    "\n",
    "Our `bell()` function is currently only capable of building the `|00> -> |Φ+>` bell state. We can combine function parameters with `qml.StatePrep` to configure the circuit. To make an arbitrary bell state, we can just prepare a different input state and that will give the corresponding entangled output. For more info read "
   ]
  },
  {
   "cell_type": "code",
   "execution_count": null,
   "id": "2847423d",
   "metadata": {},
   "outputs": [],
   "source": [
    "@qml.qnode(dev)\n",
    "def bell(input: str = \"00\"):\n",
    "    \"\"\"\n",
    "    Create a bell state of a provided input state\n",
    "    |00> => |Φ+>\n",
    "    |01> => |Ψ+>\n",
    "    |10> => |Φ->\n",
    "    |11> => |Ψ->\n",
    "    \"\"\"\n",
    "    match input:\n",
    "        case \"00\":\n",
    "            state = [1, 0, 0, 0]\n",
    "        case \"01\":\n",
    "            state = [0, 1, 0, 0]\n",
    "        case \"10\":\n",
    "            state = [0, 0, 1, 0]\n",
    "        case \"11\":\n",
    "            state = [0, 0, 0, 1]\n",
    "        case _:\n",
    "            raise ValueError(\"Input must be one of ['00', '01', '10', '11']\")\n",
    "        \n",
    "    qml.StatePrep(state, wires=['q1', 'q2'])\n",
    "    qml.H(wires='q1')\n",
    "    qml.CNOT(wires=['q1', 'q2'])\n",
    "    \n",
    "    return qml.sample(None, wires=['q1', 'q2'])"
   ]
  },
  {
   "cell_type": "code",
   "execution_count": 50,
   "id": "373b50d2",
   "metadata": {},
   "outputs": [
    {
     "data": {
      "text/plain": [
       "(<Figure size 600x300 with 1 Axes>, <Axes: >)"
      ]
     },
     "execution_count": 50,
     "metadata": {},
     "output_type": "execute_result"
    },
    {
     "data": {
      "image/png": "[encoded data removed]",
      "text/plain": [
       "<Figure size 600x300 with 1 Axes>"
      ]
     },
     "metadata": {},
     "output_type": "display_data"
    }
   ],
   "source": [
    "qml.draw_mpl(bell)('11')"
   ]
  },
  {
   "cell_type": "code",
   "execution_count": 57,
   "id": "cc0c59be",
   "metadata": {},
   "outputs": [
    {
     "data": {
      "text/plain": [
       "'The bits are all the same'"
      ]
     },
     "execution_count": 57,
     "metadata": {},
     "output_type": "execute_result"
    }
   ],
   "source": [
    "import numpy as np\n",
    "\n",
    "# Running the circuit with '00' or '10' as input should always return the same result for the measurement of the qubits (in the ideal case).\n",
    "# This is the fundamental property of the Bell states. Try it out by changing the input to the circuit below.\n",
    "result = bell(\"00\")\n",
    "all_the_same = np.all([x[0] == x[1] for x in result])\n",
    "all_different = np.all([x[0] != x[1] for x in result])\n",
    "\n",
    "f\"The bits are {'all the same' if all_the_same else 'all different' if all_different else 'mixed'}\""
   ]
  },
  {
   "cell_type": "code",
   "execution_count": null,
   "id": "5c67cd7b",
   "metadata": {},
   "outputs": [],
   "source": []
  }
 ],
 "metadata": {
  "kernelspec": {
   "display_name": "quantum-wSpM9I4J-py3.12",
   "language": "python",
   "name": "python3"
  },
  "language_info": {
   "codemirror_mode": {
    "name": "ipython",
    "version": 3
   },
   "file_extension": ".py",
   "mimetype": "text/x-python",
   "name": "python",
   "nbconvert_exporter": "python",
   "pygments_lexer": "ipython3",
   "version": "3.12.9"
  }
 },
 "nbformat": 4,
 "nbformat_minor": 5
}

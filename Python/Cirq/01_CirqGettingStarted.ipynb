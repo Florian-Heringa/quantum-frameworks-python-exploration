{
 "cells": [
  {
   "cell_type": "markdown",
   "id": "011cc581",
   "metadata": {},
   "source": [
    "# Cirq Getting Started\n",
    "\n",
    "Cirq is the open source quantum computer frameowkr by Google. It contains definitions for qubits, circuits and simulators. It also contains interfaces for running your circuit on real hardware, for example on systems from IonQ, AQT and Pasqal.\n",
    "\n",
    "To get a bit of a feel for how the library works, we start with the [Hello Qubit](https://quantumai.google/cirq/start/start) example from the docs."
   ]
  },
  {
   "cell_type": "code",
   "execution_count": 9,
   "id": "21ae3eee",
   "metadata": {},
   "outputs": [
    {
     "name": "stdout",
     "output_type": "stream",
     "text": [
      "Circuit:\n",
      "(0, 0): ───X^0.5───M('m')───\n",
      "Results:\n",
      "m=10100111101010010011\n"
     ]
    }
   ],
   "source": [
    "import cirq\n",
    "import cirq_google\n",
    "import qsimcirq\n",
    "\n",
    "import matplotlib.pyplot as plt\n",
    "\n",
    "# Pick a qubit.\n",
    "qubit = cirq.GridQubit(0, 0)\n",
    "\n",
    "# Create a circuit that applies a square root of NOT gate, then measures the qubit.\n",
    "circuit = cirq.Circuit(cirq.X(qubit) ** 0.5, cirq.measure(qubit, key='m'))\n",
    "print(\"Circuit:\")\n",
    "print(circuit)\n",
    "\n",
    "# Simulate the circuit several times.\n",
    "simulator = cirq.Simulator()\n",
    "result = simulator.run(circuit, repetitions=20)\n",
    "print(\"Results:\")\n",
    "print(result)"
   ]
  },
  {
   "cell_type": "markdown",
   "id": "1035ea68",
   "metadata": {},
   "source": [
    "This circuit prepares a quantum state by applying the `Sqrt(Not)` gate and then measures that state. The circuit is simulated 20 times. Each digit in the bitstring 'm' is the result of one of those measurements. \n",
    "\n",
    "We can also view the final state vector of the circuit, but this only works when the circuit does not contain measurements. As we can see from the state vector and the simulation, they are in agreement. You would expect an equal distribution of $|0\\rangle$ and $|1\\rangle$"
   ]
  },
  {
   "cell_type": "code",
   "execution_count": 11,
   "id": "7f810efc",
   "metadata": {},
   "outputs": [
    {
     "name": "stdout",
     "output_type": "stream",
     "text": [
      "[0.5+0.5j 0.5-0.5j]\n"
     ]
    },
    {
     "name": "stderr",
     "output_type": "stream",
     "text": [
      "p:\\02_Poetry\\Cache\\virtualenvs\\quantum-wSpM9I4J-py3.12\\Lib\\site-packages\\cirq\\vis\\state_histogram.py:109: UserWarning: FigureCanvasAgg is non-interactive, and thus cannot be shown\n",
      "  fig.show()\n"
     ]
    },
    {
     "data": {
      "image/png": "[encoded data removed]",
      "text/plain": [
       "<Figure size 640x480 with 1 Axes>"
      ]
     },
     "metadata": {},
     "output_type": "display_data"
    }
   ],
   "source": [
    "qubit = cirq.GridQubit(0, 0)\n",
    "circuit = cirq.Circuit(cirq.X(qubit) ** 0.5)\n",
    "print(circuit.final_state_vector())\n",
    "\n",
    "circuit.append(cirq.measure(qubit, key=\"m\"))\n",
    "result = simulator.run(circuit, repetitions=10000)\n",
    "_ = cirq.plot_state_histogram(result)\n",
    "plt.show()"
   ]
  },
  {
   "cell_type": "markdown",
   "id": "02534b95",
   "metadata": {},
   "source": [
    "How Cirq works is by defining qubits on a grid, this is why we use `GridCubit(row: int, col: int)`. These qubits use row-major ordering and represent the way google builds quantum chips. Cirq also contains interfaces to other manufacturer's backends, and these interfaces will contain different types of qubits to define. For this tutorial we will stay firmly within Cirq and use `GridQubit`s.\n",
    "\n",
    "Afterwards we define a cricuit by passing `Circuit()` a list of gates or moments. Gates are single operations on one or more qubits, while moments are abstract time slices of parallel operations on multiple qubits. This is explained [here](https://quantumai.google/cirq/build/circuits) in detail.\n",
    "\n",
    "Another way of creating circuits is by first defining an empty circuit and then using the `append()` method to add operations. Where each call will add new moments ('time' slices) according to the specified [`InsertStrategy`](https://quantumai.google/reference/python/cirq/InsertStrategy)"
   ]
  },
  {
   "cell_type": "markdown",
   "id": "7b429c24",
   "metadata": {},
   "source": [
    "### Simulation\n",
    "\n",
    "Cirq also contains simulation hardware named a [Quantum VM](https://quantumai.google/cirq/simulate/quantum_virtual_machine). This includes advanced features such as realistic noise modeling. But we can also run ideal simulations and noisy simulations using classical simulators. \n",
    "\n",
    "The material below is based on [Cirq - Simulate a circuit](https://quantumai.google/cirq/simulate)"
   ]
  },
  {
   "cell_type": "markdown",
   "id": "760d1cd3",
   "metadata": {},
   "source": [
    "### Classical simulation\n",
    "\n",
    "#### Exact Simulation\n",
    "\n",
    "\n",
    "#### Noisy Simulation\n",
    "\n",
    "\n",
    "#### Parametrizing circuits\n",
    "\n",
    "\n",
    "#### Visualising Results"
   ]
  },
  {
   "cell_type": "code",
   "execution_count": null,
   "id": "dea61008",
   "metadata": {},
   "outputs": [],
   "source": []
  },
  {
   "cell_type": "markdown",
   "id": "c7950bce",
   "metadata": {},
   "source": [
    "### QVM\n"
   ]
  },
  {
   "cell_type": "code",
   "execution_count": 10,
   "id": "f4ab9feb",
   "metadata": {},
   "outputs": [],
   "source": [
    "# Choose a processor (\"rainbow\" or \"weber\")\n",
    "processor_id = \"weber\"\n",
    "# Load the median device noise calibration for your selected processor.\n",
    "cal = cirq_google.engine.load_median_device_calibration(processor_id)\n",
    "# Create the noise properties object.\n",
    "noise_props = cirq_google.noise_properties_from_calibration(cal)\n",
    "# Create a noise model from the noise properties.\n",
    "noise_model = cirq_google.NoiseModelFromGoogleNoiseProperties(noise_props)\n",
    "# Prepare a qsim simulator using the noise model.\n",
    "sim = qsimcirq.QSimSimulator(noise=noise_model)"
   ]
  },
  {
   "cell_type": "code",
   "execution_count": 11,
   "id": "14018739",
   "metadata": {},
   "outputs": [
    {
     "name": "stdout",
     "output_type": "stream",
     "text": [
      "Your quantum virtual machine weber is ready, here is the qubit grid: \n",
      "========================\n",
      "\n",
      "                                             (0, 5)───(0, 6)\n",
      "                                             │        │\n",
      "                                             │        │\n",
      "                                    (1, 4)───(1, 5)───(1, 6)───(1, 7)\n",
      "                                    │        │        │        │\n",
      "                                    │        │        │        │\n",
      "                                    (2, 4)───(2, 5)───(2, 6)───(2, 7)───(2, 8)\n",
      "                                    │        │        │        │        │\n",
      "                                    │        │        │        │        │\n",
      "                  (3, 2)───(3, 3)───(3, 4)───(3, 5)───(3, 6)───(3, 7)───(3, 8)───(3, 9)\n",
      "                  │        │        │        │        │        │        │        │\n",
      "                  │        │        │        │        │        │        │        │\n",
      "         (4, 1)───(4, 2)───(4, 3)───(4, 4)───(4, 5)───(4, 6)───(4, 7)───(4, 8)───(4, 9)\n",
      "         │        │        │        │        │        │        │        │\n",
      "         │        │        │        │        │        │        │        │\n",
      "(5, 0)───(5, 1)───(5, 2)───(5, 3)───(5, 4)───(5, 5)───(5, 6)───(5, 7)───(5, 8)\n",
      "         │        │        │        │        │        │        │\n",
      "         │        │        │        │        │        │        │\n",
      "         (6, 1)───(6, 2)───(6, 3)───(6, 4)───(6, 5)───(6, 6)───(6, 7)\n",
      "                  │        │        │        │        │\n",
      "                  │        │        │        │        │\n",
      "                  (7, 2)───(7, 3)───(7, 4)───(7, 5)───(7, 6)\n",
      "                           │        │        │\n",
      "                           │        │        │\n",
      "                           (8, 3)───(8, 4)───(8, 5)\n",
      "                                    │\n",
      "                                    │\n",
      "                                    (9, 4)\n"
     ]
    }
   ],
   "source": [
    "# Package the simulator and device in an Engine.\n",
    "# The device object\n",
    "device = cirq_google.engine.create_device_from_processor_id(processor_id)\n",
    "# The simulated processor object\n",
    "sim_processor = cirq_google.engine.SimulatedLocalProcessor(\n",
    "    processor_id=processor_id, sampler=sim, device=device, calibrations={cal.timestamp // 1000: cal}\n",
    ")\n",
    "# The virtual engine\n",
    "sim_engine = cirq_google.engine.SimulatedLocalEngine([sim_processor])\n",
    "print(\n",
    "    \"Your quantum virtual machine\",\n",
    "    processor_id,\n",
    "    \"is ready, here is the qubit grid:\",\n",
    "    \"\\n========================\\n\",\n",
    ")\n",
    "print(sim_engine.get_processor(processor_id).get_device())\n"
   ]
  },
  {
   "cell_type": "code",
   "execution_count": 12,
   "id": "ae981cab",
   "metadata": {},
   "outputs": [
    {
     "name": "stdout",
     "output_type": "stream",
     "text": [
      "Counter({2: 1397, 1: 1268, 0: 269, 3: 66})\n"
     ]
    }
   ],
   "source": [
    "q0 = cirq.GridQubit(4, 4)\n",
    "q1 = cirq.GridQubit(4, 5)\n",
    "circuit = cirq.Circuit(cirq.X(q0), cirq.SQRT_ISWAP(q0, q1), cirq.measure([q0, q1], key=\"measure\"))\n",
    "\n",
    "results = sim_engine.get_sampler(processor_id).run(circuit, repetitions=3000)\n",
    "\n",
    "print(results.histogram(key=\"measure\"))\n"
   ]
  },
  {
   "cell_type": "code",
   "execution_count": null,
   "id": "b1f27f4e",
   "metadata": {},
   "outputs": [],
   "source": []
  }
 ],
 "metadata": {
  "kernelspec": {
   "display_name": "quantum-wSpM9I4J-py3.12",
   "language": "python",
   "name": "python3"
  },
  "language_info": {
   "codemirror_mode": {
    "name": "ipython",
    "version": 3
   },
   "file_extension": ".py",
   "mimetype": "text/x-python",
   "name": "python",
   "nbconvert_exporter": "python",
   "pygments_lexer": "ipython3",
   "version": "3.12.9"
  }
 },
 "nbformat": 4,
 "nbformat_minor": 5
}
